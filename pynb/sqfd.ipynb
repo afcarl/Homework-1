{
 "cells": [
  {
   "cell_type": "markdown",
   "metadata": {
    "collapsed": true
   },
   "source": [
    "# SQFD\n",
    "\n",
    "## Reference\n",
    "\n",
    "This refers to the following paper by Beeks, Uysal and Seidl:\n",
    "> C. Beecks, M. S. Uysal, and T. Seidl. \n",
    "> Signature quadratic form distance. \n",
    "> In Proc. ACM CIVR, pages 438–445, 2010.\n",
    "\n",
    "## Problem statement\n",
    "\n",
    "The idea here is to define a distance between weighted feature sets $\\mathcal{X} = \\{ (x_i, w_{x_i}) \\}$ and $\\mathcal{Y} = \\{ (y_i, w_{y_i}) \\}$:\n",
    "\n",
    "$$d_\\text{SQFD}(\\mathcal{X}, \\mathcal{Y})^2 = (w_\\mathcal{X} \\, | \\, -w_\\mathcal{Y}) \\cdot M \\cdot (w_\\mathcal{X} \\, | \\, -w_\\mathcal{Y})^T.$$\n",
    "\n",
    "where $w_\\mathcal{X}$ and $w_\\mathcal{Y}$ are weight vectors and $M$ is the following block matrix:\n",
    "\n",
    "$$M = \\left( \\begin{array}{ccc}\n",
    "   M_{\\mathcal{X}, \\mathcal{X}} & M_{\\mathcal{X}, \\mathcal{Y}} \\\\\n",
    "   {M_{\\mathcal{Y}, \\mathcal{X}}} & M_{\\mathcal{Y}, \\mathcal{Y}} \n",
    "\\end{array} \\right)$$\n",
    "\n",
    "where:\n",
    "\n",
    "$$\\forall (i, j), \\, (M_{\\mathcal{X}, \\mathcal{X}})_{i,j} = k(x_i,x_j)$$\n",
    "$$\\forall (i, j), \\, (M_{\\mathcal{X}, \\mathcal{Y}})_{i,j} = (M_{\\mathcal{Y}, \\mathcal{X}})_{j, i} = k(x_i,y_j)$$\n",
    "$$\\forall (i, j), \\, (M_{\\mathcal{Y}, \\mathcal{Y}})_{i,j} = k(y_i,y_j),$$\n",
    "\n",
    "where $k$ is a local kernel.\n",
    "\n",
    "## My use of this distance\n",
    "\n",
    "I start with coding this (squared) distance in Python, with $k$ being a RBF kernel:"
   ]
  },
  {
   "cell_type": "code",
   "execution_count": 1,
   "metadata": {
    "collapsed": true
   },
   "outputs": [],
   "source": [
    "import numpy\n",
    "from sklearn.metrics.pairwise import rbf_kernel\n",
    "\n",
    "def sqfd_sq(X, Y, alpha, w_X=None, w_Y=None):\n",
    "    if w_X is None:\n",
    "        w_X = 1. / X.shape[0] * numpy.ones((X.shape[0],))\n",
    "    if w_Y is None:\n",
    "        w_Y = 1. / Y.shape[0] * numpy.ones((Y.shape[0],))\n",
    "    XY = numpy.concatenate((X, Y))\n",
    "    m = rbf_kernel(XY, XY, gamma=alpha)\n",
    "    w = numpy.concatenate((w_X, -w_Y))\n",
    "    return numpy.dot(numpy.dot(w, m), w)"
   ]
  },
  {
   "cell_type": "markdown",
   "metadata": {},
   "source": [
    "Note that, by default, weights are set to $1/n$ for a set of size $n$.\n",
    "\n",
    "In the following, I will focus on this equal weight case.\n",
    "\n",
    "## Developping the distance calculation\n",
    "\n",
    "In the following, I will also assume that $|\\mathcal{X}| = n$ and $|\\mathcal{Y}| = m$.\n",
    "\n",
    "Then, we get:\n",
    "$$d_\\text{SQFD}(\\mathcal{X}, \\mathcal{Y})^2 = \\frac{1}{n^2}\\sum_{i=1}^n\\sum_{j=1}^n k(x_i, x_j) + \\frac{1}{m^2}\\sum_{i=1}^m\\sum_{j=1}^m k(y_i, y_j) - \\frac{2}{m \\cdot n}\\sum_{i=1}^n\\sum_{j=1}^m k(x_i, y_j)$$\n",
    "\n",
    "If we denote by $K$ the match kernel, we can re-write this as:\n",
    "\n",
    "$$d_\\text{SQFD}(\\mathcal{X}, \\mathcal{Y})^2 = K(\\mathcal{X}, \\mathcal{X}) + K(\\mathcal{Y}, \\mathcal{Y}) - 2 K(\\mathcal{X}, \\mathcal{Y}).$$\n",
    "\n",
    "In other words, $d_\\text{SQFD}$ is the distance between feature sets embedded in the RKHS associated to $K$."
   ]
  },
  {
   "cell_type": "code",
   "execution_count": null,
   "metadata": {
    "collapsed": true
   },
   "outputs": [],
   "source": []
  }
 ],
 "metadata": {
  "kernelspec": {
   "display_name": "Python 3",
   "language": "python",
   "name": "python3"
  },
  "language_info": {
   "codemirror_mode": {
    "name": "ipython",
    "version": 3
   },
   "file_extension": ".py",
   "mimetype": "text/x-python",
   "name": "python",
   "nbconvert_exporter": "python",
   "pygments_lexer": "ipython3",
   "version": "3.4.3"
  }
 },
 "nbformat": 4,
 "nbformat_minor": 0
}

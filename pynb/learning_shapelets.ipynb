{
 "cells": [
  {
   "cell_type": "markdown",
   "metadata": {
    "collapsed": true
   },
   "source": [
    "# Learning Shapelets\n",
    "\n",
    "## Reference\n",
    "\n",
    "This refers to the following paper by Grabocka _et al._:\n",
    "> Learning Time-Series Shapelets. \n",
    "> Josif Grabocka, Nicolas Schilling, Martin Wistuba, Lars Schmidt-Thieme\n",
    "> http://www.ismll.uni-hildesheim.de/pub/pdfs/grabocka2014e-kdd.pdf\n",
    "\n",
    "## Content\n",
    "\n",
    "In this paper, authors suggest that one should rather learn time series that are likely to lead to good classification instead of finding them in the data, as was done by previous works.\n",
    "The optimization strategy is a standard gradient descent over shapelets elements and logistic regression coefficients.\n",
    "Experiments are conducted on the UCR datasets.\n",
    "\n"
   ]
  },
  {
   "cell_type": "code",
   "execution_count": 1,
   "metadata": {
    "collapsed": false
   },
   "outputs": [
    {
     "name": "stdout",
     "output_type": "stream",
     "text": [
      "[ 2.  2.  1.  1.  2.  2.  2.  2.  2.  1.  1.  1.  1.  1.  2.  1.  2.  2.\n",
      "  1.  2.  1.  1.  1.  2.  1.  2.  1.  1.  2.  1.  1.  2.  2.  1.  2.  1.\n",
      "  2.  2.  2.  2.  2.  1.  1.  1.  2.  2.  1.  2.  1.  2.]\n",
      "(50, 150, 1) (150, 150, 1)\n"
     ]
    }
   ],
   "source": [
    "%matplotlib inline\n",
    "\n",
    "import numpy\n",
    "import os\n",
    "import matplotlib.pyplot as plt\n",
    "\n",
    "def load_dataset(ds_name, path=\"data/ucr\"):\n",
    "    directory = \"%s/%s\" % (path, ds_name)\n",
    "    fname_train, fname_test = None, None\n",
    "    for fname in os.listdir(directory):\n",
    "        if fname.endswith(\"_TRAIN.txt\"):\n",
    "            fname_train = os.path.join(directory, fname)\n",
    "        elif fname.endswith(\"_TEST.txt\"):\n",
    "            fname_test = os.path.join(directory, fname)\n",
    "    data_train = numpy.loadtxt(fname_train)\n",
    "    n, sz = data_train.shape\n",
    "    x_train, y_train = data_train[:, 1:].reshape((n, sz - 1, 1)), data_train[:, 0]\n",
    "    data_test = numpy.loadtxt(fname_test)\n",
    "    n, sz = data_test.shape\n",
    "    x_test, y_test = data_test[:, 1:].reshape((n, sz - 1, 1)), data_test[:, 0]\n",
    "    return x_train, y_train, x_test, y_test\n",
    "\n",
    "numpy.random.seed(0)\n",
    "x_train, y_train, x_test, y_test = load_dataset(\"GunPoint\", \"../../TSC_dataset/data_out/\")\n",
    "print(y_train)\n",
    "\n",
    "# 0/1 setup\n",
    "y_train[y_train <= 1.5] = 0\n",
    "y_train[y_train > 1.5] = 1\n",
    "y_test[y_test <= 1.5] = 0\n",
    "y_test[y_test > 1.5] = 1\n",
    "\n",
    "print(x_train.shape, x_test.shape)"
   ]
  },
  {
   "cell_type": "markdown",
   "metadata": {},
   "source": [
    "Let us start by defining some basic functions that compute the gradient of the loss wrt shapelet coefficients, and all it needs to be computed:"
   ]
  },
  {
   "cell_type": "code",
   "execution_count": 2,
   "metadata": {
    "collapsed": false
   },
   "outputs": [],
   "source": [
    "def shapelet_transform_with_offset(ts_i, shapelets):\n",
    "    L = ts_i.shape[0]\n",
    "    dists = []\n",
    "    for shp in shapelets:\n",
    "        sz = shp.shape[0]\n",
    "        dists.append(numpy.min([numpy.linalg.norm(ts_i[t:t+sz] - shp) ** 2 for t in range(L-sz+1)]))\n",
    "    return numpy.array([1] + dists)\n",
    "\n",
    "def predict(ts_i, shapelets, weights):\n",
    "    return 1. / (1 + numpy.exp(- numpy.dot(weights, shapelet_transform_with_offset(ts_i, shapelets))))\n",
    "\n",
    "def loss(time_series, classes, shapelets, weights, lambda_w):\n",
    "    total_loss = 0.\n",
    "    for ts_i, yi in zip(time_series, classes):\n",
    "        s_yi_hat = predict(ts_i, shapelets, weights)\n",
    "        total_loss += - yi * numpy.log(s_yi_hat) - (1. - yi) * numpy.log(1 - s_yi_hat)\n",
    "    total_loss += lambda_w * numpy.linalg.norm(weights) ** 2\n",
    "    return total_loss / time_series.shape[0]\n",
    "\n",
    "def grad_Skl(ts_i, y_i, shapelets, weights):\n",
    "    dL_dYi = - (y_i - predict(ts_i, shapelets, weights))\n",
    "    n_shapelets = len(shapelets)\n",
    "    L = ts_i.shape[0]\n",
    "    dYi_dSkl = []\n",
    "    for k in range(n_shapelets):\n",
    "        sz = shapelets[k].shape[0]\n",
    "        dYi_dMik = weights[k]\n",
    "        j = numpy.argmin([numpy.linalg.norm(ts_i[t:t+sz] - shapelets[k]) ** 2 for t in range(L-sz+1)])\n",
    "        dMik_dSkl = shapelets[k] - ts_i[j:j+sz] # Limit when alpha -> -inf\n",
    "        dYi_dSkl.append(dYi_dMik * dMik_dSkl)\n",
    "    return [dL_dYi * dYi_dSkl[k] for k in range(n_shapelets)]\n",
    "\n",
    "def grad_Wk(ts_i, y_i, shapelets, weights, lambda_w, n_samples):\n",
    "    n_shapelets = len(shapelets)\n",
    "    gr = - 0.5 * (y_i - predict(ts_i, shapelets, weights)) * shapelet_transform_with_offset(ts_i, shapelets)\n",
    "    gr += lambda_w * weights / n_samples\n",
    "    return gr"
   ]
  },
  {
   "cell_type": "code",
   "execution_count": 3,
   "metadata": {
    "collapsed": false
   },
   "outputs": [
    {
     "name": "stdout",
     "output_type": "stream",
     "text": [
      "16.8174888834\n"
     ]
    }
   ],
   "source": [
    "n_shapelets = 3\n",
    "lambda_w = 0.01\n",
    "shapelets = [numpy.random.randn(10, 1) for k in range(n_shapelets)]  # 3 random shapelets of size 10\n",
    "weights = numpy.random.randn(n_shapelets + 1)\n",
    "print(loss(x_train, y_train, shapelets, weights, lambda_w))"
   ]
  },
  {
   "cell_type": "markdown",
   "metadata": {},
   "source": [
    "Let us know have a look at what the stochastic gradient descent looks like:"
   ]
  },
  {
   "cell_type": "code",
   "execution_count": 4,
   "metadata": {
    "collapsed": false
   },
   "outputs": [
    {
     "name": "stdout",
     "output_type": "stream",
     "text": [
      "0 15.6483088365\n",
      "1000 0.751163578421\n",
      "2000 0.589398807966\n",
      "3000 0.505813954454\n",
      "4000 0.445194111328\n",
      "5000 0.400044069529\n",
      "6000 0.573250108736\n",
      "7000 0.901345328692\n",
      "8000 0.810320633043\n",
      "9000 0.420190383322\n",
      "10000 0.335152508542\n"
     ]
    }
   ],
   "source": [
    "def update_shapelets_and_weights(ts_i, y_i, shapelets, weights, lambda_w, n_samples, eta):\n",
    "    delta_Skl = grad_Skl(ts_i, y_i, shapelets, weights)\n",
    "    delta_Wk = grad_Wk(ts_i, y_i, shapelets, weights, lambda_w, n_samples)\n",
    "    \n",
    "    weights -= eta * delta_Wk\n",
    "    for k in range(len(shapelets)):\n",
    "        shapelets[k] -= eta * delta_Skl[k]\n",
    "    return shapelets, weights\n",
    "\n",
    "eta = 0.01\n",
    "for i in range(10001):  # 10k iterations\n",
    "    idx = numpy.random.randint(x_train.shape[0])\n",
    "    ts_i = x_train[idx]\n",
    "    y_i = y_train[idx]\n",
    "    shapelets, weights = update_shapelets_and_weights(ts_i, y_i, shapelets, weights, lambda_w, x_train.shape[0], eta)\n",
    "    if i % 1000 == 0:\n",
    "        print(i, loss(x_train, y_train, shapelets, weights, lambda_w=0.01))"
   ]
  },
  {
   "cell_type": "code",
   "execution_count": 5,
   "metadata": {
    "collapsed": false
   },
   "outputs": [
    {
     "data": {
      "image/png": "[encoded data removed]",
      "text/plain": [
       "<matplotlib.figure.Figure at 0x10e459748>"
      ]
     },
     "metadata": {},
     "output_type": "display_data"
    }
   ],
   "source": [
    "for shp in shapelets:\n",
    "    plt.plot(numpy.arange(shp.shape[0]), shp)\n"
   ]
  },
  {
   "cell_type": "markdown",
   "metadata": {},
   "source": [
    "Of course, this code is not optimized (some quantities are computed several time at each iteration), but it gives an idea of how LS works."
   ]
  },
  {
   "cell_type": "code",
   "execution_count": 6,
   "metadata": {
    "collapsed": false
   },
   "outputs": [
    {
     "name": "stdout",
     "output_type": "stream",
     "text": [
      "125 150\n"
     ]
    }
   ],
   "source": [
    "n_correct = 0\n",
    "for idx_test in range(x_test.shape[0]):\n",
    "    yi_hat = predict(x_test[idx_test], shapelets, weights)\n",
    "    if (yi_hat > .5 and y_test[idx_test] == 1) or (yi_hat <= .5 and y_test[idx_test] == 0):\n",
    "        n_correct += 1\n",
    "print(n_correct, x_test.shape[0])"
   ]
  },
  {
   "cell_type": "markdown",
   "metadata": {},
   "source": [
    "Note that in this implementation, we do not perform k-means initialization as in the original paper."
   ]
  }
 ],
 "metadata": {
  "kernelspec": {
   "display_name": "Python 3",
   "language": "python",
   "name": "python3"
  },
  "language_info": {
   "codemirror_mode": {
    "name": "ipython",
    "version": 3
   },
   "file_extension": ".py",
   "mimetype": "text/x-python",
   "name": "python",
   "nbconvert_exporter": "python",
   "pygments_lexer": "ipython3",
   "version": "3.4.3"
  }
 },
 "nbformat": 4,
 "nbformat_minor": 0
}

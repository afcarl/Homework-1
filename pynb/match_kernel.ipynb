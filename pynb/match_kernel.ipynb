{
 "cells": [
  {
   "cell_type": "markdown",
   "metadata": {
    "collapsed": true
   },
   "source": [
    "# Match kernel\n",
    "\n",
    "## Reference\n",
    "\n",
    "This refers to the following paper by Bo & Sminchisescu:\n",
    "> Bo, L., & Sminchisescu, C. (2009). \n",
    "> Efficient match kernel between sets of features for visual recognition. \n",
    "> In Advances in neural information processing systems (pp. 135-143).\n",
    "\n",
    "## Problem statement\n",
    "\n",
    "The idea here is to define a kernel $K$ between sets of features that relies on a local kernel $k$ that operates at the feature level:\n",
    "\n",
    "$$K(\\mathcal{X}, \\mathcal{Y}) = \\frac{\\sum_{x \\in \\mathcal{X}} \\sum_{y \\in \\mathcal{Y}} k(x, y)}{\\text{card}(\\mathcal{X}) \\cdot \\text{card}(\\mathcal{Y})}.$$\n",
    "\n"
   ]
  },
  {
   "cell_type": "code",
   "execution_count": null,
   "metadata": {},
   "outputs": [],
   "source": [
    "%pylab inline\n",
    "import numpy\n",
    "import pylab\n",
    "from sklearn.metrics.pairwise import rbf_kernel\n",
    "\n",
    "\n",
    "def match_kernel(set1, set2, gamma):\n",
    "    return numpy.sum(rbf_kernel(set1, set2, gamma=gamma))\n",
    "\n",
    "n_sets = 100\n",
    "n_features_per_set = 10\n",
    "d = 2\n",
    "random_data = numpy.random.randn(n_sets, n_features_per_set, d)\n",
    "\n",
    "for set in random_data:\n",
    "    _ = pylab.plot(set[:, 0], set[:, 1], \"o\")"
   ]
  }
 ],
 "metadata": {
  "kernelspec": {
   "display_name": "Python 2",
   "language": "python",
   "name": "python2"
  },
  "language_info": {
   "codemirror_mode": {
    "name": "ipython",
    "version": 2.0
   },
   "file_extension": ".py",
   "mimetype": "text/x-python",
   "name": "python",
   "nbconvert_exporter": "python",
   "pygments_lexer": "ipython2",
   "version": "2.7.6"
  }
 },
 "nbformat": 4,
 "nbformat_minor": 0
}
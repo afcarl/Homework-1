{
 "cells": [
  {
   "cell_type": "markdown",
   "metadata": {
    "collapsed": true
   },
   "source": [
    "# Match kernel\n",
    "Notebook by Laetitia Chapel and Romain Tavenard\n",
    "\n",
    "## Reference\n",
    "\n",
    "This refers to the following paper by Bo & Sminchisescu:\n",
    "> Bo, L., & Sminchisescu, C. (2009). \n",
    "> Efficient match kernel between sets of features for visual recognition. \n",
    "> In Advances in neural information processing systems (pp. 135-143).\n",
    "\n",
    "## Problem statement\n",
    "\n",
    "The idea here is to define a kernel $K$ between sets of features that relies on a local kernel $k$ that operates at the feature level:\n",
    "\n",
    "$$K(\\mathcal{X}, \\mathcal{Y}) = \\frac{\\sum_{x \\in \\mathcal{X}} \\sum_{y \\in \\mathcal{Y}} k(x, y)}{\\text{card}(\\mathcal{X}) \\cdot \\text{card}(\\mathcal{Y})}.$$\n",
    "\n"
   ]
  },
  {
   "cell_type": "code",
   "execution_count": 1,
   "metadata": {
    "collapsed": false
   },
   "outputs": [
    {
     "data": {
      "image/png": "[encoded data removed]",
      "text/plain": [
       "<matplotlib.figure.Figure at 0x1036c48d0>"
      ]
     },
     "metadata": {},
     "output_type": "display_data"
    }
   ],
   "source": [
    "%matplotlib inline\n",
    "import numpy\n",
    "import pylab\n",
    "from sklearn.metrics.pairwise import rbf_kernel\n",
    "\n",
    "\n",
    "def match_kernel(set1, set2, gamma):\n",
    "    return numpy.sum(rbf_kernel(set1, set2, gamma=gamma)) / (len(set1) * len(set2))\n",
    "\n",
    "n_sets = 5\n",
    "n_features_per_set = 10\n",
    "d = 2\n",
    "random_data = numpy.random.randn(n_sets, n_features_per_set, d)\n",
    "\n",
    "# Plotting the kind of data we will be working with (but only few sets to keep things readable)\n",
    "for s in random_data:\n",
    "    _ = pylab.plot(s[:, 0], s[:, 1], \"o\")"
   ]
  },
  {
   "cell_type": "code",
   "execution_count": 2,
   "metadata": {
    "collapsed": false
   },
   "outputs": [
    {
     "data": {
      "image/png": "[encoded data removed]",
      "text/plain": [
       "<matplotlib.figure.Figure at 0x106d01898>"
      ]
     },
     "metadata": {},
     "output_type": "display_data"
    }
   ],
   "source": [
    "n_sets = 20\n",
    "n_features_per_set = 10\n",
    "d = 2\n",
    "random_data = numpy.random.randn(n_sets, n_features_per_set, d)\n",
    "\n",
    "K = numpy.empty((n_sets, n_sets))\n",
    "for i in range(n_sets):\n",
    "    for j in range(n_sets):\n",
    "        K[i, j] = match_kernel(random_data[i], random_data[j], gamma=1.)\n",
    "\n",
    "_ = pylab.imshow(K, interpolation=\"none\")\n",
    "_ = pylab.colorbar()"
   ]
  },
  {
   "cell_type": "markdown",
   "metadata": {},
   "source": [
    "Then, let us have a look at the properties of this kernel.\n",
    "\n",
    "First, what do diagonal values look like?"
   ]
  },
  {
   "cell_type": "code",
   "execution_count": 3,
   "metadata": {
    "collapsed": false
   },
   "outputs": [
    {
     "name": "stdout",
     "output_type": "stream",
     "text": [
      "[ 0.35452364  0.29351383  0.23503205  0.2262637   0.27348108  0.41251933\n",
      "  0.51115946  0.23235057  0.3454957   0.20833034  0.25147261  0.26685962\n",
      "  0.20386737  0.32626603  0.22471542  0.27737858  0.27534215  0.24221811\n",
      "  0.382295    0.30266103]\n"
     ]
    }
   ],
   "source": [
    "print(numpy.diag(K))"
   ]
  },
  {
   "cell_type": "markdown",
   "metadata": {},
   "source": [
    "This is something we are not very happy with: how can one say that $\\mathcal{X}$ is more similar to itself than $\\mathcal{Y}$ is to itself?\n",
    "\n",
    "Another point that is bothering us is that $\\mathcal{Y}$ can be more similar to $\\mathcal{X}$ than $\\mathcal{X}$ itself:"
   ]
  },
  {
   "cell_type": "code",
   "execution_count": 4,
   "metadata": {
    "collapsed": false
   },
   "outputs": [
    {
     "name": "stdout",
     "output_type": "stream",
     "text": [
      "(0,3) is one example of such a behaviour (Kij=0.23, Kii=0.35, Kjj=0.23)\n",
      "(0,12) is one example of such a behaviour (Kij=0.21, Kii=0.35, Kjj=0.20)\n",
      "(0,17) is one example of such a behaviour (Kij=0.24, Kii=0.35, Kjj=0.24)\n",
      "(1,6) is one example of such a behaviour (Kij=0.30, Kii=0.29, Kjj=0.51)\n",
      "(2,5) is one example of such a behaviour (Kij=0.25, Kii=0.24, Kjj=0.41)\n",
      "(2,18) is one example of such a behaviour (Kij=0.27, Kii=0.24, Kjj=0.38)\n",
      "(3,0) is one example of such a behaviour (Kij=0.23, Kii=0.23, Kjj=0.35)\n",
      "(3,5) is one example of such a behaviour (Kij=0.25, Kii=0.23, Kjj=0.41)\n",
      "(3,6) is one example of such a behaviour (Kij=0.26, Kii=0.23, Kjj=0.51)\n",
      "(3,8) is one example of such a behaviour (Kij=0.23, Kii=0.23, Kjj=0.35)\n",
      "(4,6) is one example of such a behaviour (Kij=0.31, Kii=0.27, Kjj=0.51)\n",
      "(5,2) is one example of such a behaviour (Kij=0.25, Kii=0.41, Kjj=0.24)\n",
      "(5,3) is one example of such a behaviour (Kij=0.25, Kii=0.41, Kjj=0.23)\n",
      "(5,7) is one example of such a behaviour (Kij=0.25, Kii=0.41, Kjj=0.23)\n",
      "(5,12) is one example of such a behaviour (Kij=0.22, Kii=0.41, Kjj=0.20)\n",
      "(5,15) is one example of such a behaviour (Kij=0.28, Kii=0.41, Kjj=0.28)\n",
      "(5,17) is one example of such a behaviour (Kij=0.28, Kii=0.41, Kjj=0.24)\n",
      "(5,19) is one example of such a behaviour (Kij=0.31, Kii=0.41, Kjj=0.30)\n",
      "(6,1) is one example of such a behaviour (Kij=0.30, Kii=0.51, Kjj=0.29)\n",
      "(6,3) is one example of such a behaviour (Kij=0.26, Kii=0.51, Kjj=0.23)\n",
      "(6,4) is one example of such a behaviour (Kij=0.31, Kii=0.51, Kjj=0.27)\n",
      "(6,8) is one example of such a behaviour (Kij=0.36, Kii=0.51, Kjj=0.35)\n",
      "(6,11) is one example of such a behaviour (Kij=0.31, Kii=0.51, Kjj=0.27)\n",
      "(6,12) is one example of such a behaviour (Kij=0.22, Kii=0.51, Kjj=0.20)\n",
      "(6,16) is one example of such a behaviour (Kij=0.29, Kii=0.51, Kjj=0.28)\n",
      "(6,17) is one example of such a behaviour (Kij=0.29, Kii=0.51, Kjj=0.24)\n",
      "(7,5) is one example of such a behaviour (Kij=0.25, Kii=0.23, Kjj=0.41)\n",
      "(7,18) is one example of such a behaviour (Kij=0.25, Kii=0.23, Kjj=0.38)\n",
      "(8,3) is one example of such a behaviour (Kij=0.23, Kii=0.35, Kjj=0.23)\n",
      "(8,6) is one example of such a behaviour (Kij=0.36, Kii=0.35, Kjj=0.51)\n",
      "(8,17) is one example of such a behaviour (Kij=0.25, Kii=0.35, Kjj=0.24)\n",
      "(10,18) is one example of such a behaviour (Kij=0.27, Kii=0.25, Kjj=0.38)\n",
      "(11,6) is one example of such a behaviour (Kij=0.31, Kii=0.27, Kjj=0.51)\n",
      "(12,0) is one example of such a behaviour (Kij=0.21, Kii=0.20, Kjj=0.35)\n",
      "(12,5) is one example of such a behaviour (Kij=0.22, Kii=0.20, Kjj=0.41)\n",
      "(12,6) is one example of such a behaviour (Kij=0.22, Kii=0.20, Kjj=0.51)\n",
      "(12,15) is one example of such a behaviour (Kij=0.21, Kii=0.20, Kjj=0.28)\n",
      "(13,16) is one example of such a behaviour (Kij=0.28, Kii=0.33, Kjj=0.28)\n",
      "(15,5) is one example of such a behaviour (Kij=0.28, Kii=0.28, Kjj=0.41)\n",
      "(15,12) is one example of such a behaviour (Kij=0.21, Kii=0.28, Kjj=0.20)\n",
      "(16,6) is one example of such a behaviour (Kij=0.29, Kii=0.28, Kjj=0.51)\n",
      "(16,13) is one example of such a behaviour (Kij=0.28, Kii=0.28, Kjj=0.33)\n",
      "(17,0) is one example of such a behaviour (Kij=0.24, Kii=0.24, Kjj=0.35)\n",
      "(17,5) is one example of such a behaviour (Kij=0.28, Kii=0.24, Kjj=0.41)\n",
      "(17,6) is one example of such a behaviour (Kij=0.29, Kii=0.24, Kjj=0.51)\n",
      "(17,8) is one example of such a behaviour (Kij=0.25, Kii=0.24, Kjj=0.35)\n",
      "(18,2) is one example of such a behaviour (Kij=0.27, Kii=0.38, Kjj=0.24)\n",
      "(18,7) is one example of such a behaviour (Kij=0.25, Kii=0.38, Kjj=0.23)\n",
      "(18,10) is one example of such a behaviour (Kij=0.27, Kii=0.38, Kjj=0.25)\n",
      "(19,5) is one example of such a behaviour (Kij=0.31, Kii=0.30, Kjj=0.41)\n"
     ]
    }
   ],
   "source": [
    "for i in range(n_sets):\n",
    "    for j in range(n_sets):\n",
    "        if K[i, j] > min(K[i, i], K[j, j]):\n",
    "            print(\"(%d,%d) is one example of such a behaviour (Kij=%.2f, Kii=%.2f, Kjj=%.2f)\" % (i, j, K[i, j], K[i, i], K[j, j]))"
   ]
  },
  {
   "cell_type": "markdown",
   "metadata": {},
   "source": [
    "Finally, if we normalize the kernel, we get:"
   ]
  },
  {
   "cell_type": "code",
   "execution_count": 5,
   "metadata": {
    "collapsed": false
   },
   "outputs": [
    {
     "data": {
      "image/png": "[encoded data removed]",
      "text/plain": [
       "<matplotlib.figure.Figure at 0x106d8d048>"
      ]
     },
     "metadata": {},
     "output_type": "display_data"
    }
   ],
   "source": [
    "K_diag_sqrt = numpy.sqrt(numpy.diag(K))\n",
    "\n",
    "K = K / K_diag_sqrt.reshape((-1, 1))\n",
    "K = K / K_diag_sqrt.reshape((1, -1))\n",
    "\n",
    "_ = pylab.imshow(K, interpolation=\"none\")\n",
    "_ = pylab.colorbar()"
   ]
  },
  {
   "cell_type": "code",
   "execution_count": 6,
   "metadata": {
    "collapsed": false
   },
   "outputs": [
    {
     "name": "stdout",
     "output_type": "stream",
     "text": [
      "[ 1.  1.  1.  1.  1.  1.  1.  1.  1.  1.  1.  1.  1.  1.  1.  1.  1.  1.\n",
      "  1.  1.]\n"
     ]
    }
   ],
   "source": [
    "print(numpy.diag(K))\n",
    "for i in range(n_sets):\n",
    "    for j in range(n_sets):\n",
    "        if K[i, j] > min(K[i, i], K[j, j]):\n",
    "            print(\"(%d,%d) is greater than 1. (Kij=%.2f)\" % (i, j, K[i, j]))\n",
    "        "
   ]
  },
  {
   "cell_type": "code",
   "execution_count": 7,
   "metadata": {
    "collapsed": false
   },
   "outputs": [
    {
     "name": "stdout",
     "output_type": "stream",
     "text": [
      "0\n"
     ]
    }
   ],
   "source": [
    "n_sets = 1000\n",
    "n_features_per_set = 2\n",
    "d = 1\n",
    "random_data = numpy.random.randn(n_sets, n_features_per_set, d)\n",
    "\n",
    "K = numpy.empty((n_sets, n_sets))\n",
    "for i in range(n_sets):\n",
    "    for j in range(n_sets):\n",
    "        K[i, j] = match_kernel(random_data[i], random_data[j], gamma=1.)\n",
    "\n",
    "K_diag_sqrt = numpy.sqrt(numpy.diag(K))\n",
    "\n",
    "K = K / K_diag_sqrt.reshape((-1, 1))\n",
    "K = K / K_diag_sqrt.reshape((1, -1))\n",
    "\n",
    "print(numpy.sum(K > 1. + 1e-6))\n"
   ]
  },
  {
   "cell_type": "markdown",
   "metadata": {
    "collapsed": true
   },
   "source": [
    "This is because, in this case, $K$ is such that, for all $\\mathcal{X}$, we have:\n",
    "$$K(\\mathcal{X},\\mathcal{X}) = 1.$$\n",
    "\n",
    "Hence, by applying Cauchy-Schwartz inequality in the RKHS associated to $K$, we get (for all $\\mathcal{X}$ and $\\mathcal{Y}$):\n",
    "$$K(\\mathcal{X}, \\mathcal{Y})^2 \\leq K(\\mathcal{X},\\mathcal{X}) \\cdot K(\\mathcal{Y},\\mathcal{Y}) = 1.$$"
   ]
  },
  {
   "cell_type": "code",
   "execution_count": null,
   "metadata": {
    "collapsed": true
   },
   "outputs": [],
   "source": []
  }
 ],
 "metadata": {
  "kernelspec": {
   "display_name": "Python 3",
   "language": "python",
   "name": "python3"
  },
  "language_info": {
   "codemirror_mode": {
    "name": "ipython",
    "version": 3
   },
   "file_extension": ".py",
   "mimetype": "text/x-python",
   "name": "python",
   "nbconvert_exporter": "python",
   "pygments_lexer": "ipython3",
   "version": "3.4.3"
  }
 },
 "nbformat": 4,
 "nbformat_minor": 0
}
